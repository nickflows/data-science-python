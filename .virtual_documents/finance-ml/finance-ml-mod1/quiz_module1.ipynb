


import pandas as pd
import numpy as np
import risk_kit as erk
import matplotlib as mpl


%load_ext autoreload


%autoreload 2


ffme = erk.get_ffm_d20returns()


ffme


## annualized returns for Lo 20 Portfolio


returns = 1000*(1+ffme["Lo 20"]).cumprod()


returns


drawdown_df = erk.drawdown(


#gets the number of months
n_months = ffme.shape[0]


#gets the total returns over the entire period
returns_per_mo = (ffme+1).prod()**(1/n_months) - 1


returns_per_mo


ann_return = (returns_per_mo+1)**12-1


ann_return


ann_vol = ffme.std()*np.sqrt(12)


ann_vol


## 1999 to 2015 period


ffme_1999 = ffme["1999":"2015"]


ffme_1999


n_months_1999 = ffme_1999.shape[0]


returns_per_mo_1999 = (ffme_1999+1).prod()**(1/n_months_1999) - 1


returns_per_mo_1999


ann_return_1999 = (returns_per_mo_1999+1)**12-1


ann_return_1999


ann_vol_1999 = ffme_1999.std()*np.sqrt(12)


ann_vol_1999


## Max Drawdown


ffme_1999


drawdown_Lo20 = erk.drawdown(ffme_1999['Lo 20'])


drawdown_Lo20


drawdown_Lo20['Drawdowns'].min()


drawdown_Lo20['Drawdowns'].idxmin()


## Max Drawdown LargCap


drawdown_Hi20 = erk.drawdown(ffme_1999['Hi 20'])


drawdown_Hi20


drawdown_Hi20['Drawdowns'].min()


drawdown_Hi20['Drawdowns'].idxmin()


# 


hfi = erk.get_hfi_returns()


hfi_09 = hfi['2009':]


hfi_09


hfi_09[hfi_09<0].std(ddof=0)


erk.skewness(hfi_09)


erk.kurtosis(hfi['2000':])



