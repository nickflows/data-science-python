


import numpy as np
import pandas as pd


me_m = pd.read_csv("finance-ml-data/Portfolios_Formed_on_ME_monthly_EW.csv", 
                  header=0,
                  index_col=0,
                  parse_dates=True,
                  na_values=-99.99)


rets = me_m[['Lo 10','Hi 10']]


rets.columns = ['SmallCap','LargeCap']


rets = rets/100


rets.plot.line()


rets.head()


rets.index


rets.index = pd.to_datetime(rets.index, format='%Y%m')


rets.index


rets.index = rets.index.to_period('M')


rets.index


rets.head()








wealth_index = 1000*(1+rets["LargeCap"]).cumprod()


wealth_index


wealth_index.head()


wealth_index.plot.line()





previous_peaks = wealth_index.cummax()


previous_peaks.head()


previous_peaks.plot.line()


## drawdown


drawdown = (wealth_index - previous_peaks)/previous_peaks


drawdown.plot()


drawdown.head()


drawdown.min()


drawdown["1975":].min()


drawdown.idxmin()


## function to compute drawdown, previous peak, etc.


def drawdown(series: pd.Series):
    """
    Takes a time series of asset returns
    Computes and returns a data frame that contains:
    1/ wealth index
    2/ previous peaks
    3/ percentage drawdowns
    """
    wealth_index = 1000*(1+series).cumprod()
    previous_peaks = wealth_index.cummax()
    drawdowns = (wealth_index - previous_peaks) / previous_peaks

    return pd.DataFrame({
        "Wealth": wealth_index,
        "Peaks": previous_peaks,
        "Drawdowns": drawdowns
    })


drawdown(rets['LargeCap']).head()


drawdown(rets['LargeCap'])[['Wealth','Peaks']].head()


drawdown(rets['LargeCap'])[['Wealth','Peaks']].plot()


drawdown(rets['LargeCap'][:"1950"])[['Wealth','Peaks']].plot()


drawdown(rets['LargeCap']).head()


drawdown(rets['LargeCap'])['Drawdowns'].min()


drawdown(rets['SmallCap'])['Drawdowns'].min()


drawdown(rets['SmallCap']["1940":])['Drawdowns'].min()


drawdown(rets['SmallCap']["1940":])['Drawdowns'].idxmin()


drawdown(rets['SmallCap']["1975":])['Drawdowns'].min()


drawdown(rets['SmallCap']["1975":])['Drawdowns'].idxmin()


drawdown(rets['LargeCap']["1975":])['Drawdowns'].min()


drawdown(rets['LargeCap']["1975":])['Drawdowns'].idxmin()



