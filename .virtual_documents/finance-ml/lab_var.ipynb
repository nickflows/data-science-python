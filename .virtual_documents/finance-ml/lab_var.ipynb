


import pandas as pd
import numpy as np
import risk_kit as erk
import matplotlib as mpl


%load_ext autoreload


%autoreload 2


hfi = erk.get_hfi_returns()





hfi.std(ddof=0) 


#we care about returns being lower than average


#negative semi-deviation --> look at returns below 0 and calculate STD
hfi[hfi<0].std(ddof=0)





np.percentile(hfi,5, axis=0)


np.percentile(hfi,5, axis=0)


def var_historic(returns, level=5):
    """
    VaR Historic
    """
    if isinstance(returns, pd.DataFrame):
        return returns.aggregate(var_historic, level=level)
        
    elif isinstance(returns, pd.Series):
        return -np.percentile(returns, level) 
        
    else:
        raise TypeError("Expected returns to be a series or dataframe")


var_historic(hfi)


erk.var_historic(hfi)


erk.
