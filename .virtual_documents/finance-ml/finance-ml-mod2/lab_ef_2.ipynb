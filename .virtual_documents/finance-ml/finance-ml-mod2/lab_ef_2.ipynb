


import pandas as pd
import numpy as np
import os
import sys


sys.path.append(os.path.abspath("../finance-ml-mod1"))


import risk_kit as erk


%load_ext autoreload
%autoreload 2


ind = erk.get_ind_returns()


er = erk.annualize_rets(ind["1996":"2000"],12)


cov = ind["1996":"2000"].cov()


er


# returns for the portfolio
def portfolio_return(weights, returns):
    """
    Weights to Returns
    """
    return weights.T @ returns


# variance of the portfolio

def portfolio_vol(weights, covmat):
    """
    Weights --> Volatility
    """
    return (weights.T @ covmat @ weights)**0.5


assets = ["Food","Beer","Smoke","Coal"]


er[assets]


cov.loc[assets,assets]


weights = np.repeat(1/4,4)


weights


erk.portfolio_return(er[assets],weights)


erk.portfolio_vol(weights,cov.loc[assets,assets])





l = ["Games", "Fin"]


npoints = 20
weights = [np.array([w, 1-w]) for w in np.linspace(0,1,npoints)]


weights


len(weights)


## Generate Lists for Returns for Weights and Volatility for Weights


rets = [erk.portfolio_return(w, er[l]) for w in weights]


vols = [erk.portfolio_vol(w, cov.loc[l,l]) for w in weights]


ef = pd.DataFrame({"R": rets, "Vol": vols})


ef


ef.plot.scatter(x="Vol", y="R")


assets2 = ["Fin","Beer"]


erk.plot_ef2(25, er[assets2], cov.loc[assets2, assets2])


erk.plot_ef2(25, er[assets2], cov.loc[assets2, assets2], style="--")


erk.plot_ef2(25, er[assets2], cov.loc[assets2, assets2], style=".")



