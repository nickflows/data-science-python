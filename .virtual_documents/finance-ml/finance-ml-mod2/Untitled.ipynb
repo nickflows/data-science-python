import pandas as pd
import numpy as np
import os
import sys


sys.path.append(os.path.abspath("../finance-ml-mod1"))


import risk_kit as erk


%load_ext autoreload
%autoreload 2


ind = erk.get_ind_returns()


er = erk.annualize_rets(ind["1996":"2000"],12)


cov = ind["1996":"2000"].cov()


def plot_ef2(npoints, er, cov, style=".-"):
    """
    Plots the N-asset efficient frontier
    """
    weights = minimize_vol(target_return)
    rets = [portfolio_return(w,er) for w in weights]
    vols = [portfolio_vol(w,cov) for w in weights]
    ef = pd.DataFrame({
        "Returns": rets,
        "Volatility": vols
    })
    return ef.plot.line(x="Volatility", y="Returns", style=style, ylabel="Returns")


# How do we define a function that does the following:
# minimize_vol(target_return)


from scipy.optimize import minimize


l = ["Games", "Fin"]


deerk.plot_ef2(20, er[l], cov.loc[l,l])


def target_is_met(w,er):
    """
    determines if the target return is met
    """
    return target_return - erk.portfolio_returns(w, er)


def minimize_vol(target_return, er, cov):
    """
    Takes target_return as an input and returns a weight vector that minimizes the
    volatility
    """
    n = er.shape[0]
    init_guess = np.repeat(1/n,n)
    bounds = ((0.0, 1.0),)*n #makes n copies of a tuple or list when you multiply by n
    return_is_target = {
        'type': 'eq',
        'args': (er,),
        'fun': lambda weights, er: target_return - erk.portfolio_return(weights, er)
    }
    weights_sum_to_1 = {
        'type': 'eq',
        'fun': lambda weights: np.sum(weights) - 1
    }
    results = minimize(erk.portfolio_vol,
                       init_guess,
                       args=(cov,),
                       method="SLSQP",
                       options = {'disp': False},
                       constraints = (return_is_target, weights_sum_to_1),
                       bounds = bounds
                      )
    return results.x


w15 = minimize_vol(0.15, er[l],cov.loc[l,l])
vol15 = erk.portfolio_vol(w15,cov.loc[l,l])
vol15


w15






