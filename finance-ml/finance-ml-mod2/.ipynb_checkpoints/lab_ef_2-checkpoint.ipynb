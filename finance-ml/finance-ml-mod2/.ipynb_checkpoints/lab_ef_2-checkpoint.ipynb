{
 "cells": [
  {
   "cell_type": "markdown",
   "id": "a21757ba-49c0-495c-8fc2-7df79db3254f",
   "metadata": {},
   "source": [
    "## Efficient Frontier Part 2"
   ]
  },
  {
   "cell_type": "code",
   "execution_count": 33,
   "id": "fbf7db88-7be1-4de6-ae01-f0b615a602b3",
   "metadata": {},
   "outputs": [],
   "source": [
    "import pandas as pd\n",
    "import numpy as np\n",
    "import os\n",
    "import sys"
   ]
  },
  {
   "cell_type": "code",
   "execution_count": 34,
   "id": "33d3f6cc-3762-45ec-a705-fa71383e6a65",
   "metadata": {},
   "outputs": [],
   "source": [
    "sys.path.append(os.path.abspath(\"../finance-ml-mod1\"))"
   ]
  },
  {
   "cell_type": "code",
   "execution_count": 35,
   "id": "a4530266-5d1a-43b7-bea4-6e519e8f6d92",
   "metadata": {},
   "outputs": [],
   "source": [
    "import risk_kit as erk"
   ]
  },
  {
   "cell_type": "code",
   "execution_count": 4,
   "id": "5e507a49-5592-4b41-9973-f2d4d0bac7a4",
   "metadata": {},
   "outputs": [],
   "source": [
    "%load_ext autoreload\n",
    "%autoreload 2"
   ]
  },
  {
   "cell_type": "code",
   "execution_count": 5,
   "id": "0c978f0c-c2ed-4fcd-bcf2-d0037581bff1",
   "metadata": {},
   "outputs": [
    {
     "name": "stderr",
     "output_type": "stream",
     "text": [
      "/Users/nicholasflores/Documents/GitHub/data-science-python/finance-ml/finance-ml-mod1/risk_kit.py:156: UserWarning: Could not infer format, so each element will be parsed individually, falling back to `dateutil`. To ensure parsing is consistent and as-expected, please specify a format.\n",
      "  ind = pd.read_csv(\"../finance-ml-data/ind30_m_vw_rets.csv\", header=0, index_col=0, parse_dates=True)/100\n"
     ]
    }
   ],
   "source": [
    "ind = erk.get_ind_returns()"
   ]
  },
  {
   "cell_type": "code",
   "execution_count": 7,
   "id": "f58b74f8-0dd8-4cd7-b777-0240a75f4bbc",
   "metadata": {},
   "outputs": [],
   "source": [
    "er = erk.annualize_rets(ind[\"1996\":\"2000\"],12)"
   ]
  },
  {
   "cell_type": "code",
   "execution_count": 8,
   "id": "761db644-aa41-48da-9848-6279f308469d",
   "metadata": {},
   "outputs": [],
   "source": [
    "cov = ind[\"1996\":\"2000\"].cov()"
   ]
  },
  {
   "cell_type": "code",
   "execution_count": 10,
   "id": "4c664905-821e-4bd6-bb1f-4a2b8eeb9e5d",
   "metadata": {},
   "outputs": [
    {
     "data": {
      "text/plain": [
       "Food     0.116799\n",
       "Beer     0.141126\n",
       "Smoke    0.107830\n",
       "Games    0.068212\n",
       "Books    0.187286\n",
       "Hshld    0.134766\n",
       "Clths    0.079160\n",
       "Hlth     0.246641\n",
       "Chems    0.077456\n",
       "Txtls   -0.042721\n",
       "Cnstr    0.084076\n",
       "Steel    0.115809\n",
       "FabPr    0.108280\n",
       "ElcEq    0.272420\n",
       "Autos    0.080954\n",
       "Carry    0.173904\n",
       "Mines   -0.053554\n",
       "Coal     0.414689\n",
       "Oil      0.165377\n",
       "Util     0.145903\n",
       "Telcm    0.122771\n",
       "Servs    0.175264\n",
       "BusEq    0.271952\n",
       "Paper    0.097163\n",
       "Trans    0.071099\n",
       "Whlsl    0.126431\n",
       "Rtail    0.207247\n",
       "Meals    0.067400\n",
       "Fin      0.223371\n",
       "Other    0.043349\n",
       "dtype: float64"
      ]
     },
     "execution_count": 10,
     "metadata": {},
     "output_type": "execute_result"
    }
   ],
   "source": [
    "er"
   ]
  },
  {
   "cell_type": "code",
   "execution_count": 14,
   "id": "edd81277-126d-4915-93d9-78563075411a",
   "metadata": {},
   "outputs": [],
   "source": [
    "# returns for the portfolio\n",
    "def portfolio_return(weights, returns):\n",
    "    \"\"\"\n",
    "    Weights to Returns\n",
    "    \"\"\"\n",
    "    return weights.T @ returns"
   ]
  },
  {
   "cell_type": "code",
   "execution_count": 15,
   "id": "c05523b4-99e4-43bd-b916-9baf628d29cf",
   "metadata": {},
   "outputs": [],
   "source": [
    "# variance of the portfolio\n",
    "\n",
    "def portfolio_vol(weights, covmat):\n",
    "    \"\"\"\n",
    "    Weights --> Volatility\n",
    "    \"\"\"\n",
    "    return (weights.T @ covmat @ weights)**0.5"
   ]
  },
  {
   "cell_type": "code",
   "execution_count": 16,
   "id": "ac8096ad-b87a-47ae-8f64-5d4a2e41597a",
   "metadata": {},
   "outputs": [],
   "source": [
    "assets = [\"Food\",\"Beer\",\"Smoke\",\"Coal\"]"
   ]
  },
  {
   "cell_type": "code",
   "execution_count": 17,
   "id": "d3c8e4bb-70d3-4be9-891d-3466666c961e",
   "metadata": {},
   "outputs": [
    {
     "data": {
      "text/plain": [
       "Food     0.116799\n",
       "Beer     0.141126\n",
       "Smoke    0.107830\n",
       "Coal     0.414689\n",
       "dtype: float64"
      ]
     },
     "execution_count": 17,
     "metadata": {},
     "output_type": "execute_result"
    }
   ],
   "source": [
    "er[assets]"
   ]
  },
  {
   "cell_type": "code",
   "execution_count": 19,
   "id": "1c6852a1-30c7-4308-b615-5db74259ead7",
   "metadata": {},
   "outputs": [
    {
     "data": {
      "text/html": [
       "<div>\n",
       "<style scoped>\n",
       "    .dataframe tbody tr th:only-of-type {\n",
       "        vertical-align: middle;\n",
       "    }\n",
       "\n",
       "    .dataframe tbody tr th {\n",
       "        vertical-align: top;\n",
       "    }\n",
       "\n",
       "    .dataframe thead th {\n",
       "        text-align: right;\n",
       "    }\n",
       "</style>\n",
       "<table border=\"1\" class=\"dataframe\">\n",
       "  <thead>\n",
       "    <tr style=\"text-align: right;\">\n",
       "      <th></th>\n",
       "      <th>Food</th>\n",
       "      <th>Beer</th>\n",
       "      <th>Smoke</th>\n",
       "      <th>Coal</th>\n",
       "    </tr>\n",
       "  </thead>\n",
       "  <tbody>\n",
       "    <tr>\n",
       "      <th>Food</th>\n",
       "      <td>0.002609</td>\n",
       "      <td>0.002379</td>\n",
       "      <td>0.002061</td>\n",
       "      <td>0.000027</td>\n",
       "    </tr>\n",
       "    <tr>\n",
       "      <th>Beer</th>\n",
       "      <td>0.002379</td>\n",
       "      <td>0.005264</td>\n",
       "      <td>0.001359</td>\n",
       "      <td>0.001728</td>\n",
       "    </tr>\n",
       "    <tr>\n",
       "      <th>Smoke</th>\n",
       "      <td>0.002061</td>\n",
       "      <td>0.001359</td>\n",
       "      <td>0.008349</td>\n",
       "      <td>-0.000733</td>\n",
       "    </tr>\n",
       "    <tr>\n",
       "      <th>Coal</th>\n",
       "      <td>0.000027</td>\n",
       "      <td>0.001728</td>\n",
       "      <td>-0.000733</td>\n",
       "      <td>0.018641</td>\n",
       "    </tr>\n",
       "  </tbody>\n",
       "</table>\n",
       "</div>"
      ],
      "text/plain": [
       "           Food      Beer     Smoke      Coal\n",
       "Food   0.002609  0.002379  0.002061  0.000027\n",
       "Beer   0.002379  0.005264  0.001359  0.001728\n",
       "Smoke  0.002061  0.001359  0.008349 -0.000733\n",
       "Coal   0.000027  0.001728 -0.000733  0.018641"
      ]
     },
     "execution_count": 19,
     "metadata": {},
     "output_type": "execute_result"
    }
   ],
   "source": [
    "cov.loc[assets,assets]"
   ]
  },
  {
   "cell_type": "code",
   "execution_count": 20,
   "id": "95b59872-cc93-4c77-85da-5ff15a383982",
   "metadata": {},
   "outputs": [],
   "source": [
    "weights = np.repeat(1/4,4)"
   ]
  },
  {
   "cell_type": "code",
   "execution_count": 21,
   "id": "6a7b828a-ab4a-4019-b301-971f2499b628",
   "metadata": {},
   "outputs": [
    {
     "data": {
      "text/plain": [
       "array([0.25, 0.25, 0.25, 0.25])"
      ]
     },
     "execution_count": 21,
     "metadata": {},
     "output_type": "execute_result"
    }
   ],
   "source": [
    "weights"
   ]
  },
  {
   "cell_type": "code",
   "execution_count": 22,
   "id": "104a1114-17dd-4227-994e-5b1dbb09b87e",
   "metadata": {},
   "outputs": [
    {
     "data": {
      "text/plain": [
       "0.19511097196038385"
      ]
     },
     "execution_count": 22,
     "metadata": {},
     "output_type": "execute_result"
    }
   ],
   "source": [
    "erk.portfolio_return(er[assets],weights)"
   ]
  },
  {
   "cell_type": "code",
   "execution_count": 23,
   "id": "3c64e3ab-1c49-4c8d-83b0-d3ff58a3fbf6",
   "metadata": {},
   "outputs": [
    {
     "data": {
      "text/plain": [
       "0.055059195776437045"
      ]
     },
     "execution_count": 23,
     "metadata": {},
     "output_type": "execute_result"
    }
   ],
   "source": [
    "erk.portfolio_vol(weights,cov.loc[assets,assets])"
   ]
  },
  {
   "cell_type": "markdown",
   "id": "4bf366d0-8783-4f0b-95d5-beb3a5632e13",
   "metadata": {},
   "source": [
    "## 2 Asset Frontier"
   ]
  },
  {
   "cell_type": "code",
   "execution_count": 25,
   "id": "e7caccb1-614e-4cba-b71c-c2cd33eedd52",
   "metadata": {},
   "outputs": [],
   "source": [
    "l = [\"Games\", \"Fin\"]"
   ]
  },
  {
   "cell_type": "code",
   "execution_count": 27,
   "id": "e5fd9dc3-de43-43e4-8de1-cd0de4493a60",
   "metadata": {},
   "outputs": [],
   "source": [
    "npoints = 20\n",
    "weights = [np.array([w, 1-w]) for w in np.linspace(0,1,npoints)]"
   ]
  },
  {
   "cell_type": "code",
   "execution_count": 28,
   "id": "4e51673f-1f7c-4e3e-9e72-1e90e840971b",
   "metadata": {},
   "outputs": [
    {
     "data": {
      "text/plain": [
       "[array([0., 1.]),\n",
       " array([0.05263158, 0.94736842]),\n",
       " array([0.10526316, 0.89473684]),\n",
       " array([0.15789474, 0.84210526]),\n",
       " array([0.21052632, 0.78947368]),\n",
       " array([0.26315789, 0.73684211]),\n",
       " array([0.31578947, 0.68421053]),\n",
       " array([0.36842105, 0.63157895]),\n",
       " array([0.42105263, 0.57894737]),\n",
       " array([0.47368421, 0.52631579]),\n",
       " array([0.52631579, 0.47368421]),\n",
       " array([0.57894737, 0.42105263]),\n",
       " array([0.63157895, 0.36842105]),\n",
       " array([0.68421053, 0.31578947]),\n",
       " array([0.73684211, 0.26315789]),\n",
       " array([0.78947368, 0.21052632]),\n",
       " array([0.84210526, 0.15789474]),\n",
       " array([0.89473684, 0.10526316]),\n",
       " array([0.94736842, 0.05263158]),\n",
       " array([1., 0.])]"
      ]
     },
     "execution_count": 28,
     "metadata": {},
     "output_type": "execute_result"
    }
   ],
   "source": [
    "weights"
   ]
  },
  {
   "cell_type": "code",
   "execution_count": 29,
   "id": "efdb3479-b25e-4366-85e2-66a790dae53f",
   "metadata": {},
   "outputs": [
    {
     "data": {
      "text/plain": [
       "20"
      ]
     },
     "execution_count": 29,
     "metadata": {},
     "output_type": "execute_result"
    }
   ],
   "source": [
    "len(weights)"
   ]
  },
  {
   "cell_type": "code",
   "execution_count": 30,
   "id": "26074c1e-e37e-48fc-8c97-e1decc3fe518",
   "metadata": {},
   "outputs": [],
   "source": [
    "## Generate Lists for Returns for Weights and Volatility for Weights"
   ]
  },
  {
   "cell_type": "code",
   "execution_count": 37,
   "id": "dd20a97a-e54c-4731-8234-2472cafad0ee",
   "metadata": {},
   "outputs": [],
   "source": [
    "rets = [erk.portfolio_return(w, er[l]) for w in weights]"
   ]
  },
  {
   "cell_type": "code",
   "execution_count": 44,
   "id": "36a8e625-bfd5-40fe-927d-dd1386e81f84",
   "metadata": {},
   "outputs": [],
   "source": [
    "vols = [erk.portfolio_vol(w, cov.loc[l,l]) for w in weights]"
   ]
  },
  {
   "cell_type": "code",
   "execution_count": 45,
   "id": "29993d39-3286-4191-a85e-6e0dcd697cbd",
   "metadata": {},
   "outputs": [],
   "source": [
    "ef = pd.DataFrame({\"R\": rets, \"Vol\": vols})"
   ]
  },
  {
   "cell_type": "code",
   "execution_count": 46,
   "id": "daa7ec84-e766-4891-8f28-ae586a08a293",
   "metadata": {},
   "outputs": [
    {
     "data": {
      "text/html": [
       "<div>\n",
       "<style scoped>\n",
       "    .dataframe tbody tr th:only-of-type {\n",
       "        vertical-align: middle;\n",
       "    }\n",
       "\n",
       "    .dataframe tbody tr th {\n",
       "        vertical-align: top;\n",
       "    }\n",
       "\n",
       "    .dataframe thead th {\n",
       "        text-align: right;\n",
       "    }\n",
       "</style>\n",
       "<table border=\"1\" class=\"dataframe\">\n",
       "  <thead>\n",
       "    <tr style=\"text-align: right;\">\n",
       "      <th></th>\n",
       "      <th>R</th>\n",
       "      <th>Vol</th>\n",
       "    </tr>\n",
       "  </thead>\n",
       "  <tbody>\n",
       "    <tr>\n",
       "      <th>0</th>\n",
       "      <td>0.223371</td>\n",
       "      <td>0.063100</td>\n",
       "    </tr>\n",
       "    <tr>\n",
       "      <th>1</th>\n",
       "      <td>0.215205</td>\n",
       "      <td>0.061845</td>\n",
       "    </tr>\n",
       "    <tr>\n",
       "      <th>2</th>\n",
       "      <td>0.207039</td>\n",
       "      <td>0.060699</td>\n",
       "    </tr>\n",
       "    <tr>\n",
       "      <th>3</th>\n",
       "      <td>0.198873</td>\n",
       "      <td>0.059666</td>\n",
       "    </tr>\n",
       "    <tr>\n",
       "      <th>4</th>\n",
       "      <td>0.190706</td>\n",
       "      <td>0.058753</td>\n",
       "    </tr>\n",
       "    <tr>\n",
       "      <th>5</th>\n",
       "      <td>0.182540</td>\n",
       "      <td>0.057965</td>\n",
       "    </tr>\n",
       "    <tr>\n",
       "      <th>6</th>\n",
       "      <td>0.174374</td>\n",
       "      <td>0.057308</td>\n",
       "    </tr>\n",
       "    <tr>\n",
       "      <th>7</th>\n",
       "      <td>0.166207</td>\n",
       "      <td>0.056786</td>\n",
       "    </tr>\n",
       "    <tr>\n",
       "      <th>8</th>\n",
       "      <td>0.158041</td>\n",
       "      <td>0.056403</td>\n",
       "    </tr>\n",
       "    <tr>\n",
       "      <th>9</th>\n",
       "      <td>0.149875</td>\n",
       "      <td>0.056161</td>\n",
       "    </tr>\n",
       "    <tr>\n",
       "      <th>10</th>\n",
       "      <td>0.141708</td>\n",
       "      <td>0.056063</td>\n",
       "    </tr>\n",
       "    <tr>\n",
       "      <th>11</th>\n",
       "      <td>0.133542</td>\n",
       "      <td>0.056110</td>\n",
       "    </tr>\n",
       "    <tr>\n",
       "      <th>12</th>\n",
       "      <td>0.125376</td>\n",
       "      <td>0.056300</td>\n",
       "    </tr>\n",
       "    <tr>\n",
       "      <th>13</th>\n",
       "      <td>0.117209</td>\n",
       "      <td>0.056633</td>\n",
       "    </tr>\n",
       "    <tr>\n",
       "      <th>14</th>\n",
       "      <td>0.109043</td>\n",
       "      <td>0.057106</td>\n",
       "    </tr>\n",
       "    <tr>\n",
       "      <th>15</th>\n",
       "      <td>0.100877</td>\n",
       "      <td>0.057715</td>\n",
       "    </tr>\n",
       "    <tr>\n",
       "      <th>16</th>\n",
       "      <td>0.092710</td>\n",
       "      <td>0.058457</td>\n",
       "    </tr>\n",
       "    <tr>\n",
       "      <th>17</th>\n",
       "      <td>0.084544</td>\n",
       "      <td>0.059326</td>\n",
       "    </tr>\n",
       "    <tr>\n",
       "      <th>18</th>\n",
       "      <td>0.076378</td>\n",
       "      <td>0.060316</td>\n",
       "    </tr>\n",
       "    <tr>\n",
       "      <th>19</th>\n",
       "      <td>0.068212</td>\n",
       "      <td>0.061423</td>\n",
       "    </tr>\n",
       "  </tbody>\n",
       "</table>\n",
       "</div>"
      ],
      "text/plain": [
       "           R       Vol\n",
       "0   0.223371  0.063100\n",
       "1   0.215205  0.061845\n",
       "2   0.207039  0.060699\n",
       "3   0.198873  0.059666\n",
       "4   0.190706  0.058753\n",
       "5   0.182540  0.057965\n",
       "6   0.174374  0.057308\n",
       "7   0.166207  0.056786\n",
       "8   0.158041  0.056403\n",
       "9   0.149875  0.056161\n",
       "10  0.141708  0.056063\n",
       "11  0.133542  0.056110\n",
       "12  0.125376  0.056300\n",
       "13  0.117209  0.056633\n",
       "14  0.109043  0.057106\n",
       "15  0.100877  0.057715\n",
       "16  0.092710  0.058457\n",
       "17  0.084544  0.059326\n",
       "18  0.076378  0.060316\n",
       "19  0.068212  0.061423"
      ]
     },
     "execution_count": 46,
     "metadata": {},
     "output_type": "execute_result"
    }
   ],
   "source": [
    "ef"
   ]
  },
  {
   "cell_type": "code",
   "execution_count": 50,
   "id": "21ecb0c2-e300-48fb-b71b-f4abd041baa9",
   "metadata": {},
   "outputs": [
    {
     "data": {
      "text/plain": [
       "<Axes: xlabel='Vol', ylabel='R'>"
      ]
     },
     "execution_count": 50,
     "metadata": {},
     "output_type": "execute_result"
    },
    {
     "data": {
      "image/png": "[encoded data removed]",
      "text/plain": [
       "<Figure size 640x480 with 1 Axes>"
      ]
     },
     "metadata": {},
     "output_type": "display_data"
    }
   ],
   "source": [
    "ef.plot.scatter(x=\"Vol\", y=\"R\")"
   ]
  },
  {
   "cell_type": "code",
   "execution_count": 51,
   "id": "491dd950-1bb6-4d0b-b38e-ab32336a59b7",
   "metadata": {},
   "outputs": [],
   "source": [
    "assets2 = [\"Fin\",\"Beer\"]"
   ]
  },
  {
   "cell_type": "code",
   "execution_count": 54,
   "id": "68937a96-61c5-4306-858f-b6951039faec",
   "metadata": {},
   "outputs": [
    {
     "data": {
      "text/plain": [
       "<Axes: xlabel='Volatility', ylabel='Returns'>"
      ]
     },
     "execution_count": 54,
     "metadata": {},
     "output_type": "execute_result"
    },
    {
     "data": {
      "image/png": "[encoded data removed]",
      "text/plain": [
       "<Figure size 640x480 with 1 Axes>"
      ]
     },
     "metadata": {},
     "output_type": "display_data"
    }
   ],
   "source": [
    "erk.plot_ef2(25, er[assets2], cov.loc[assets2, assets2])"
   ]
  },
  {
   "cell_type": "code",
   "execution_count": 55,
   "id": "718f6da2-b033-45b0-ab79-b92757f54e92",
   "metadata": {},
   "outputs": [
    {
     "data": {
      "text/plain": [
       "<Axes: xlabel='Volatility', ylabel='Returns'>"
      ]
     },
     "execution_count": 55,
     "metadata": {},
     "output_type": "execute_result"
    },
    {
     "data": {
      "image/png": "[encoded data removed]",
      "text/plain": [
       "<Figure size 640x480 with 1 Axes>"
      ]
     },
     "metadata": {},
     "output_type": "display_data"
    }
   ],
   "source": [
    "erk.plot_ef2(25, er[assets2], cov.loc[assets2, assets2], style=\"--\")"
   ]
  },
  {
   "cell_type": "code",
   "execution_count": 56,
   "id": "98b74a6b-5353-4490-9666-2e0e5eeb37a4",
   "metadata": {},
   "outputs": [
    {
     "data": {
      "text/plain": [
       "<Axes: xlabel='Volatility', ylabel='Returns'>"
      ]
     },
     "execution_count": 56,
     "metadata": {},
     "output_type": "execute_result"
    },
    {
     "data": {
      "image/png": "[encoded data removed]",
      "text/plain": [
       "<Figure size 640x480 with 1 Axes>"
      ]
     },
     "metadata": {},
     "output_type": "display_data"
    }
   ],
   "source": [
    "erk.plot_ef2(25, er[assets2], cov.loc[assets2, assets2], style=\".\")"
   ]
  },
  {
   "cell_type": "code",
   "execution_count": null,
   "id": "cf43690a-efda-4d2a-b49c-43e720cb8f26",
   "metadata": {},
   "outputs": [],
   "source": []
  }
 ],
 "metadata": {
  "kernelspec": {
   "display_name": "Python 3 (ipykernel)",
   "language": "python",
   "name": "python3"
  },
  "language_info": {
   "codemirror_mode": {
    "name": "ipython",
    "version": 3
   },
   "file_extension": ".py",
   "mimetype": "text/x-python",
   "name": "python",
   "nbconvert_exporter": "python",
   "pygments_lexer": "ipython3",
   "version": "3.11.9"
  }
 },
 "nbformat": 4,
 "nbformat_minor": 5
}
