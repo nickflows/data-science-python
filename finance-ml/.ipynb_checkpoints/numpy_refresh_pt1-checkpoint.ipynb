{
 "cells": [
  {
   "cell_type": "code",
   "execution_count": 1,
   "id": "80a05c94-0414-4948-9b90-47555829f182",
   "metadata": {
    "tags": []
   },
   "outputs": [],
   "source": [
    "result = []"
   ]
  },
  {
   "cell_type": "code",
   "execution_count": 4,
   "id": "7b4554d4-dc26-4ad6-849c-08c3ed95f49b",
   "metadata": {
    "tags": []
   },
   "outputs": [],
   "source": [
    "a = [10, 11, 12]\n",
    "b = [13, 14, 15]"
   ]
  },
  {
   "cell_type": "code",
   "execution_count": 5,
   "id": "6dc0c714-1a2c-4860-a145-63389cd5b78a",
   "metadata": {
    "tags": []
   },
   "outputs": [],
   "source": [
    "for first, second in zip(a,b):\n",
    "    result.append(first+second)"
   ]
  },
  {
   "cell_type": "code",
   "execution_count": 6,
   "id": "83c002fc-43ea-442a-b989-83625d4e5e35",
   "metadata": {
    "tags": []
   },
   "outputs": [
    {
     "data": {
      "text/plain": [
       "[23, 25, 27]"
      ]
     },
     "execution_count": 6,
     "metadata": {},
     "output_type": "execute_result"
    }
   ],
   "source": [
    "result"
   ]
  },
  {
   "cell_type": "code",
   "execution_count": 7,
   "id": "94f899d6-df96-4503-a873-003a63546dd1",
   "metadata": {
    "tags": []
   },
   "outputs": [],
   "source": [
    "#import numpy as np\n",
    "\n",
    "import numpy as np"
   ]
  },
  {
   "cell_type": "code",
   "execution_count": 8,
   "id": "773ae9df-3185-4341-8dfb-8fa1b4d6f359",
   "metadata": {
    "tags": []
   },
   "outputs": [],
   "source": [
    "a = np.array([1,2,3,4])"
   ]
  },
  {
   "cell_type": "code",
   "execution_count": 9,
   "id": "4f6ed737-305f-48bb-bd37-1327a60e19ed",
   "metadata": {
    "tags": []
   },
   "outputs": [
    {
     "data": {
      "text/plain": [
       "numpy.ndarray"
      ]
     },
     "execution_count": 9,
     "metadata": {},
     "output_type": "execute_result"
    }
   ],
   "source": [
    "type(a)"
   ]
  },
  {
   "cell_type": "code",
   "execution_count": 10,
   "id": "3a56a835-6117-4284-b12e-d5fd0002f2ce",
   "metadata": {
    "tags": []
   },
   "outputs": [
    {
     "data": {
      "text/plain": [
       "array([1, 2, 3, 4])"
      ]
     },
     "execution_count": 10,
     "metadata": {},
     "output_type": "execute_result"
    }
   ],
   "source": [
    "a"
   ]
  },
  {
   "cell_type": "code",
   "execution_count": 13,
   "id": "92f3a65b-d708-4d99-a299-aa687362cdf5",
   "metadata": {
    "tags": []
   },
   "outputs": [
    {
     "data": {
      "text/plain": [
       "dtype('int64')"
      ]
     },
     "execution_count": 13,
     "metadata": {},
     "output_type": "execute_result"
    }
   ],
   "source": [
    "# d.type --> data dtype\n",
    "# everything that is put into this is of this type\n",
    "\n",
    "a.dtype"
   ]
  },
  {
   "cell_type": "code",
   "execution_count": 14,
   "id": "70de958d-c4dd-43ea-b63d-768f4852de11",
   "metadata": {
    "tags": []
   },
   "outputs": [],
   "source": [
    "f = np.array([1.2, 2.3, 4.3, 5.6])"
   ]
  },
  {
   "cell_type": "code",
   "execution_count": 15,
   "id": "8bac3c4d-bff9-4e04-a359-5f1864e456fb",
   "metadata": {
    "tags": []
   },
   "outputs": [
    {
     "data": {
      "text/plain": [
       "dtype('float64')"
      ]
     },
     "execution_count": 15,
     "metadata": {},
     "output_type": "execute_result"
    }
   ],
   "source": [
    "#floating type array\n",
    "\n",
    "f.dtype"
   ]
  },
  {
   "cell_type": "code",
   "execution_count": 16,
   "id": "8f2e3828-9ffa-4c47-8d8d-80fc206c6e3e",
   "metadata": {
    "tags": []
   },
   "outputs": [
    {
     "data": {
      "text/plain": [
       "1"
      ]
     },
     "execution_count": 16,
     "metadata": {},
     "output_type": "execute_result"
    }
   ],
   "source": [
    "#number of dimensions in the array\n",
    "a.ndim"
   ]
  },
  {
   "cell_type": "code",
   "execution_count": 18,
   "id": "6c2c1bfa-3327-436f-a51f-0e1f7f031d85",
   "metadata": {
    "tags": []
   },
   "outputs": [
    {
     "data": {
      "text/plain": [
       "(4,)"
      ]
     },
     "execution_count": 18,
     "metadata": {},
     "output_type": "execute_result"
    }
   ],
   "source": [
    "#shape of the array\n",
    "#shape returns a tuple -> shows the number of elements along each dimension\n",
    "a.shape"
   ]
  },
  {
   "cell_type": "code",
   "execution_count": 20,
   "id": "63df12b2-8f35-413d-ad0c-b0c3156bf309",
   "metadata": {
    "tags": []
   },
   "outputs": [
    {
     "data": {
      "text/plain": [
       "array([2.2, 4.3, 7.3, 9.6])"
      ]
     },
     "execution_count": 20,
     "metadata": {},
     "output_type": "execute_result"
    }
   ],
   "source": [
    "#get element-wise operations\n",
    "#these are not matricies or vectors, but they're elements of entities\n",
    "a+f"
   ]
  },
  {
   "cell_type": "code",
   "execution_count": 22,
   "id": "53ee991e-a77a-4091-99f0-cf22d904fb52",
   "metadata": {
    "tags": []
   },
   "outputs": [
    {
     "data": {
      "text/plain": [
       "array([  1.2   ,   5.29  ,  79.507 , 983.4496])"
      ]
     },
     "execution_count": 22,
     "metadata": {},
     "output_type": "execute_result"
    }
   ],
   "source": [
    "#vectorize operation --> does a loop without a for loop\n",
    "f**a"
   ]
  },
  {
   "cell_type": "code",
   "execution_count": 24,
   "id": "e3bb48cb-9e17-47bd-ab8c-973e664f2aaa",
   "metadata": {
    "tags": []
   },
   "outputs": [
    {
     "data": {
      "text/plain": [
       "array([10, 20, 30, 40])"
      ]
     },
     "execution_count": 24,
     "metadata": {},
     "output_type": "execute_result"
    }
   ],
   "source": [
    "# can multiple arrays by 10\n",
    "a*10"
   ]
  },
  {
   "cell_type": "code",
   "execution_count": 26,
   "id": "ced83309-d41f-4e8f-8634-f0287827ba78",
   "metadata": {
    "tags": []
   },
   "outputs": [
    {
     "data": {
      "text/plain": [
       "<ufunc 'sin'>"
      ]
     },
     "execution_count": 26,
     "metadata": {},
     "output_type": "execute_result"
    }
   ],
   "source": [
    "#Universal Functions (ufuncs)\n",
    "#mathematical functions that can be applied to numpy arrays\n",
    "np.sin"
   ]
  },
  {
   "cell_type": "code",
   "execution_count": 27,
   "id": "df75142d-6b81-4802-ad0f-aa93cdd5f175",
   "metadata": {
    "tags": []
   },
   "outputs": [
    {
     "data": {
      "text/plain": [
       "array([ 0.84147098,  0.90929743,  0.14112001, -0.7568025 ])"
      ]
     },
     "execution_count": 27,
     "metadata": {},
     "output_type": "execute_result"
    }
   ],
   "source": [
    "#computers sign for every element of a\n",
    "np.sin(a)"
   ]
  },
  {
   "cell_type": "code",
   "execution_count": 28,
   "id": "f45e3ea5-f946-4fc6-a96c-089365b3aac0",
   "metadata": {
    "tags": []
   },
   "outputs": [],
   "source": [
    "#numpy arrays are mutuable sequences of numbers\n",
    "#if you have an integer array, it will not add non-ints (e.g., floats will be truncated)"
   ]
  },
  {
   "cell_type": "code",
   "execution_count": 51,
   "id": "79656e8a-54aa-4a36-a97e-fb480ab26721",
   "metadata": {
    "tags": []
   },
   "outputs": [],
   "source": [
    "b = np.array([[0,1,2,3,4,5],[10,11,12,13,14,15],[20,21,22,23,24,25],[30,31,32,33,34,35]])"
   ]
  },
  {
   "cell_type": "code",
   "execution_count": 30,
   "id": "077053b1-91f5-49b5-925d-164ed6b45d41",
   "metadata": {
    "tags": []
   },
   "outputs": [
    {
     "data": {
      "text/plain": [
       "(2, 4)"
      ]
     },
     "execution_count": 30,
     "metadata": {},
     "output_type": "execute_result"
    }
   ],
   "source": [
    "b.shape"
   ]
  },
  {
   "cell_type": "code",
   "execution_count": 32,
   "id": "63fb381b-9af7-49b0-ae47-9bac4e47e610",
   "metadata": {
    "tags": []
   },
   "outputs": [
    {
     "data": {
      "text/plain": [
       "13"
      ]
     },
     "execution_count": 32,
     "metadata": {},
     "output_type": "execute_result"
    }
   ],
   "source": [
    "# first value is row, second is column\n",
    "b[1,3]"
   ]
  },
  {
   "cell_type": "code",
   "execution_count": 33,
   "id": "2c49d644-9629-4d5e-8924-51d8bb7d3da1",
   "metadata": {
    "tags": []
   },
   "outputs": [
    {
     "data": {
      "text/plain": [
       "0"
      ]
     },
     "execution_count": 33,
     "metadata": {},
     "output_type": "execute_result"
    }
   ],
   "source": [
    "#first element is b[0,0]\n",
    "b[0,0]"
   ]
  },
  {
   "cell_type": "code",
   "execution_count": 34,
   "id": "e0c1349f-2931-44aa-97f0-8e78e0f8fbda",
   "metadata": {
    "tags": []
   },
   "outputs": [
    {
     "data": {
      "text/plain": [
       "10"
      ]
     },
     "execution_count": 34,
     "metadata": {},
     "output_type": "execute_result"
    }
   ],
   "source": [
    "b[1,0]"
   ]
  },
  {
   "cell_type": "code",
   "execution_count": 35,
   "id": "76d50667-7f11-4d70-894a-f739df27b51a",
   "metadata": {
    "tags": []
   },
   "outputs": [],
   "source": [
    "#how do you select an entire row or column?\n",
    "d = np.array([10,11,12,13,14])"
   ]
  },
  {
   "cell_type": "code",
   "execution_count": 36,
   "id": "4f2055ba-9b07-4099-98e2-649040acce9a",
   "metadata": {
    "tags": []
   },
   "outputs": [
    {
     "data": {
      "text/plain": [
       "array([11, 12])"
      ]
     },
     "execution_count": 36,
     "metadata": {},
     "output_type": "execute_result"
    }
   ],
   "source": [
    "d[1:3]"
   ]
  },
  {
   "cell_type": "code",
   "execution_count": 37,
   "id": "ce8b7d56-fe7e-4d3b-b734-fb5daaacde5f",
   "metadata": {
    "tags": []
   },
   "outputs": [
    {
     "data": {
      "text/plain": [
       "array([11, 12])"
      ]
     },
     "execution_count": 37,
     "metadata": {},
     "output_type": "execute_result"
    }
   ],
   "source": [
    "#negative indicies also work\n",
    "d[1:-2]"
   ]
  },
  {
   "cell_type": "code",
   "execution_count": 38,
   "id": "670871ad-304e-4154-acc9-82a71928e2ae",
   "metadata": {
    "tags": []
   },
   "outputs": [
    {
     "data": {
      "text/plain": [
       "array([10, 11, 12])"
      ]
     },
     "execution_count": 38,
     "metadata": {},
     "output_type": "execute_result"
    }
   ],
   "source": [
    "#grab the first three elements\n",
    "d[:3]"
   ]
  },
  {
   "cell_type": "code",
   "execution_count": 39,
   "id": "c6fdcebf-c825-4a66-b8ac-83dba0493855",
   "metadata": {
    "tags": []
   },
   "outputs": [
    {
     "data": {
      "text/plain": [
       "array([13, 14])"
      ]
     },
     "execution_count": 39,
     "metadata": {},
     "output_type": "execute_result"
    }
   ],
   "source": [
    "#grab the last two elements\n",
    "d[-2:]"
   ]
  },
  {
   "cell_type": "code",
   "execution_count": 43,
   "id": "c105061f-b756-455e-bac3-e87bb332e7f2",
   "metadata": {
    "tags": []
   },
   "outputs": [
    {
     "data": {
      "text/plain": [
       "array([10, 12, 14])"
      ]
     },
     "execution_count": 43,
     "metadata": {},
     "output_type": "execute_result"
    }
   ],
   "source": [
    "#every other elements\n",
    "d[::2]"
   ]
  },
  {
   "cell_type": "code",
   "execution_count": 52,
   "id": "014d12df-4e0e-4f58-b7ef-b059aea13978",
   "metadata": {
    "tags": []
   },
   "outputs": [
    {
     "data": {
      "text/plain": [
       "array([[ 0,  1,  2,  3,  4,  5],\n",
       "       [10, 11, 12, 13, 14, 15],\n",
       "       [20, 21, 22, 23, 24, 25],\n",
       "       [30, 31, 32, 33, 34, 35]])"
      ]
     },
     "execution_count": 52,
     "metadata": {},
     "output_type": "execute_result"
    }
   ],
   "source": [
    "#Array slicing\n",
    "b"
   ]
  },
  {
   "cell_type": "code",
   "execution_count": 53,
   "id": "cb0569fc-8944-48b4-9791-a96039071a1b",
   "metadata": {
    "tags": []
   },
   "outputs": [
    {
     "data": {
      "text/plain": [
       "array([3, 4])"
      ]
     },
     "execution_count": 53,
     "metadata": {},
     "output_type": "execute_result"
    }
   ],
   "source": [
    "b[0,3:5]"
   ]
  },
  {
   "cell_type": "code",
   "execution_count": 56,
   "id": "a41b818f-6de3-4567-8d21-343c6d48ff34",
   "metadata": {
    "tags": []
   },
   "outputs": [
    {
     "data": {
      "text/plain": [
       "array([[23, 24, 25],\n",
       "       [33, 34, 35]])"
      ]
     },
     "execution_count": 56,
     "metadata": {},
     "output_type": "execute_result"
    }
   ],
   "source": [
    "b[2:,3:]"
   ]
  },
  {
   "cell_type": "code",
   "execution_count": null,
   "id": "90438d66-a14a-4b56-ac6a-8090832d50b2",
   "metadata": {
    "tags": []
   },
   "outputs": [],
   "source": []
  },
  {
   "cell_type": "code",
   "execution_count": 59,
   "id": "f3f32027-d1ae-443a-8340-146366ce250a",
   "metadata": {
    "tags": []
   },
   "outputs": [],
   "source": [
    "#create an array\n",
    "t = np.arange(25).reshape(5,5)"
   ]
  },
  {
   "cell_type": "code",
   "execution_count": 60,
   "id": "4ecb9ae3-2f55-4821-b116-26a46b3478c3",
   "metadata": {
    "tags": []
   },
   "outputs": [
    {
     "data": {
      "text/plain": [
       "array([[ 0,  1,  2,  3,  4],\n",
       "       [ 5,  6,  7,  8,  9],\n",
       "       [10, 11, 12, 13, 14],\n",
       "       [15, 16, 17, 18, 19],\n",
       "       [20, 21, 22, 23, 24]])"
      ]
     },
     "execution_count": 60,
     "metadata": {},
     "output_type": "execute_result"
    }
   ],
   "source": [
    "t"
   ]
  },
  {
   "cell_type": "code",
   "execution_count": 62,
   "id": "d3bdb8ab-2f86-4f63-bb21-eba505913118",
   "metadata": {
    "tags": []
   },
   "outputs": [
    {
     "data": {
      "text/plain": [
       "array([20, 21, 22, 23, 24])"
      ]
     },
     "execution_count": 62,
     "metadata": {},
     "output_type": "execute_result"
    }
   ],
   "source": [
    "#select the last row in the 5x5 array\n",
    "t[4,:]"
   ]
  },
  {
   "cell_type": "code",
   "execution_count": 64,
   "id": "fb977397-431a-4ddd-a61f-2fe30ae4c780",
   "metadata": {
    "tags": []
   },
   "outputs": [
    {
     "data": {
      "text/plain": [
       "array([[ 1,  3],\n",
       "       [ 6,  8],\n",
       "       [11, 13],\n",
       "       [16, 18],\n",
       "       [21, 23]])"
      ]
     },
     "execution_count": 64,
     "metadata": {},
     "output_type": "execute_result"
    }
   ],
   "source": [
    "#select the 2nd and 4th column, all rows\n",
    "t[:,1::2]"
   ]
  },
  {
   "cell_type": "code",
   "execution_count": 91,
   "id": "7475d4a5-3d5d-4670-8c69-7cb11773922e",
   "metadata": {
    "tags": []
   },
   "outputs": [
    {
     "data": {
      "text/plain": [
       "array([[ 5,  7],\n",
       "       [15, 17]])"
      ]
     },
     "execution_count": 91,
     "metadata": {},
     "output_type": "execute_result"
    }
   ],
   "source": [
    "#select the elements\n",
    "t[[1,3],0:3:2]"
   ]
  },
  {
   "cell_type": "code",
   "execution_count": 93,
   "id": "3cf231e9-d3f4-4a78-bcd3-b4323c161cf7",
   "metadata": {
    "tags": []
   },
   "outputs": [],
   "source": [
    "#slices as coordinates\n",
    "e = np.array([1,2,3,4,5])"
   ]
  },
  {
   "cell_type": "code",
   "execution_count": 94,
   "id": "71aeff57-f165-438b-9225-346260a7bfbc",
   "metadata": {
    "tags": []
   },
   "outputs": [
    {
     "data": {
      "text/plain": [
       "array([4, 5])"
      ]
     },
     "execution_count": 94,
     "metadata": {},
     "output_type": "execute_result"
    }
   ],
   "source": [
    "e[-2:]"
   ]
  },
  {
   "cell_type": "code",
   "execution_count": 95,
   "id": "39b1e1b9-2a34-4224-9846-4e86932c8119",
   "metadata": {
    "tags": []
   },
   "outputs": [],
   "source": [
    "#can used to replace at specific positions\n",
    "e[-2:] = [-1,-2]"
   ]
  },
  {
   "cell_type": "code",
   "execution_count": 96,
   "id": "f841fd60-e6eb-4bc0-ac77-71600a319eca",
   "metadata": {
    "tags": []
   },
   "outputs": [
    {
     "data": {
      "text/plain": [
       "array([ 1,  2,  3, -1, -2])"
      ]
     },
     "execution_count": 96,
     "metadata": {},
     "output_type": "execute_result"
    }
   ],
   "source": [
    "e"
   ]
  },
  {
   "cell_type": "code",
   "execution_count": 97,
   "id": "b37645ed-1180-4d26-b164-ca6452e43f22",
   "metadata": {
    "tags": []
   },
   "outputs": [],
   "source": [
    "#when to use parantheses and square brackets"
   ]
  },
  {
   "cell_type": "code",
   "execution_count": null,
   "id": "b2b9ee35-cea4-413e-aebd-9398b7c2f5ca",
   "metadata": {},
   "outputs": [],
   "source": []
  }
 ],
 "metadata": {
  "kernelspec": {
   "display_name": "Python 3 (ipykernel)",
   "language": "python",
   "name": "python3"
  },
  "language_info": {
   "codemirror_mode": {
    "name": "ipython",
    "version": 3
   },
   "file_extension": ".py",
   "mimetype": "text/x-python",
   "name": "python",
   "nbconvert_exporter": "python",
   "pygments_lexer": "ipython3",
   "version": "3.11.5"
  }
 },
 "nbformat": 4,
 "nbformat_minor": 5
}
