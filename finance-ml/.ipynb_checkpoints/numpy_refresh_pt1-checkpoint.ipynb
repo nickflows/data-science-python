{
 "cells": [
  {
   "cell_type": "code",
   "execution_count": 1,
   "id": "80a05c94-0414-4948-9b90-47555829f182",
   "metadata": {
    "tags": []
   },
   "outputs": [],
   "source": [
    "result = []"
   ]
  },
  {
   "cell_type": "code",
   "execution_count": 4,
   "id": "7b4554d4-dc26-4ad6-849c-08c3ed95f49b",
   "metadata": {
    "tags": []
   },
   "outputs": [],
   "source": [
    "a = [10, 11, 12]\n",
    "b = [13, 14, 15]"
   ]
  },
  {
   "cell_type": "code",
   "execution_count": 5,
   "id": "6dc0c714-1a2c-4860-a145-63389cd5b78a",
   "metadata": {
    "tags": []
   },
   "outputs": [],
   "source": [
    "for first, second in zip(a,b):\n",
    "    result.append(first+second)"
   ]
  },
  {
   "cell_type": "code",
   "execution_count": 6,
   "id": "83c002fc-43ea-442a-b989-83625d4e5e35",
   "metadata": {
    "tags": []
   },
   "outputs": [
    {
     "data": {
      "text/plain": [
       "[23, 25, 27]"
      ]
     },
     "execution_count": 6,
     "metadata": {},
     "output_type": "execute_result"
    }
   ],
   "source": [
    "result"
   ]
  },
  {
   "cell_type": "code",
   "execution_count": 7,
   "id": "94f899d6-df96-4503-a873-003a63546dd1",
   "metadata": {
    "tags": []
   },
   "outputs": [],
   "source": [
    "#import numpy as np\n",
    "\n",
    "import numpy as np"
   ]
  },
  {
   "cell_type": "code",
   "execution_count": 8,
   "id": "773ae9df-3185-4341-8dfb-8fa1b4d6f359",
   "metadata": {
    "tags": []
   },
   "outputs": [],
   "source": [
    "a = np.array([1,2,3,4])"
   ]
  },
  {
   "cell_type": "code",
   "execution_count": 9,
   "id": "4f6ed737-305f-48bb-bd37-1327a60e19ed",
   "metadata": {
    "tags": []
   },
   "outputs": [
    {
     "data": {
      "text/plain": [
       "numpy.ndarray"
      ]
     },
     "execution_count": 9,
     "metadata": {},
     "output_type": "execute_result"
    }
   ],
   "source": [
    "type(a)"
   ]
  },
  {
   "cell_type": "code",
   "execution_count": 10,
   "id": "3a56a835-6117-4284-b12e-d5fd0002f2ce",
   "metadata": {
    "tags": []
   },
   "outputs": [
    {
     "data": {
      "text/plain": [
       "array([1, 2, 3, 4])"
      ]
     },
     "execution_count": 10,
     "metadata": {},
     "output_type": "execute_result"
    }
   ],
   "source": [
    "a"
   ]
  },
  {
   "cell_type": "code",
   "execution_count": 13,
   "id": "92f3a65b-d708-4d99-a299-aa687362cdf5",
   "metadata": {
    "tags": []
   },
   "outputs": [
    {
     "data": {
      "text/plain": [
       "dtype('int64')"
      ]
     },
     "execution_count": 13,
     "metadata": {},
     "output_type": "execute_result"
    }
   ],
   "source": [
    "# d.type --> data dtype\n",
    "# everything that is put into this is of this type\n",
    "\n",
    "a.dtype"
   ]
  },
  {
   "cell_type": "code",
   "execution_count": 14,
   "id": "70de958d-c4dd-43ea-b63d-768f4852de11",
   "metadata": {
    "tags": []
   },
   "outputs": [],
   "source": [
    "f = np.array([1.2, 2.3, 4.3, 5.6])"
   ]
  },
  {
   "cell_type": "code",
   "execution_count": 15,
   "id": "8bac3c4d-bff9-4e04-a359-5f1864e456fb",
   "metadata": {
    "tags": []
   },
   "outputs": [
    {
     "data": {
      "text/plain": [
       "dtype('float64')"
      ]
     },
     "execution_count": 15,
     "metadata": {},
     "output_type": "execute_result"
    }
   ],
   "source": [
    "#floating type array\n",
    "\n",
    "f.dtype"
   ]
  },
  {
   "cell_type": "code",
   "execution_count": 16,
   "id": "8f2e3828-9ffa-4c47-8d8d-80fc206c6e3e",
   "metadata": {
    "tags": []
   },
   "outputs": [
    {
     "data": {
      "text/plain": [
       "1"
      ]
     },
     "execution_count": 16,
     "metadata": {},
     "output_type": "execute_result"
    }
   ],
   "source": [
    "#number of dimensions in the array\n",
    "a.ndim"
   ]
  },
  {
   "cell_type": "code",
   "execution_count": 18,
   "id": "6c2c1bfa-3327-436f-a51f-0e1f7f031d85",
   "metadata": {
    "tags": []
   },
   "outputs": [
    {
     "data": {
      "text/plain": [
       "(4,)"
      ]
     },
     "execution_count": 18,
     "metadata": {},
     "output_type": "execute_result"
    }
   ],
   "source": [
    "#shape of the array\n",
    "#shape returns a tuple -> shows the number of elements along each dimension\n",
    "a.shape"
   ]
  },
  {
   "cell_type": "code",
   "execution_count": 20,
   "id": "63df12b2-8f35-413d-ad0c-b0c3156bf309",
   "metadata": {
    "tags": []
   },
   "outputs": [
    {
     "data": {
      "text/plain": [
       "array([2.2, 4.3, 7.3, 9.6])"
      ]
     },
     "execution_count": 20,
     "metadata": {},
     "output_type": "execute_result"
    }
   ],
   "source": [
    "#get element-wise operations\n",
    "#these are not matricies or vectors, but they're elements of entities\n",
    "a+f"
   ]
  },
  {
   "cell_type": "code",
   "execution_count": 22,
   "id": "53ee991e-a77a-4091-99f0-cf22d904fb52",
   "metadata": {
    "tags": []
   },
   "outputs": [
    {
     "data": {
      "text/plain": [
       "array([  1.2   ,   5.29  ,  79.507 , 983.4496])"
      ]
     },
     "execution_count": 22,
     "metadata": {},
     "output_type": "execute_result"
    }
   ],
   "source": [
    "#vectorize operation --> does a loop without a for loop\n",
    "f**a"
   ]
  },
  {
   "cell_type": "code",
   "execution_count": 24,
   "id": "e3bb48cb-9e17-47bd-ab8c-973e664f2aaa",
   "metadata": {
    "tags": []
   },
   "outputs": [
    {
     "data": {
      "text/plain": [
       "array([10, 20, 30, 40])"
      ]
     },
     "execution_count": 24,
     "metadata": {},
     "output_type": "execute_result"
    }
   ],
   "source": [
    "# can multiple arrays by 10\n",
    "a*10"
   ]
  },
  {
   "cell_type": "code",
   "execution_count": 26,
   "id": "ced83309-d41f-4e8f-8634-f0287827ba78",
   "metadata": {
    "tags": []
   },
   "outputs": [
    {
     "data": {
      "text/plain": [
       "<ufunc 'sin'>"
      ]
     },
     "execution_count": 26,
     "metadata": {},
     "output_type": "execute_result"
    }
   ],
   "source": [
    "#Universal Functions (ufuncs)\n",
    "#mathematical functions that can be applied to numpy arrays\n",
    "np.sin"
   ]
  },
  {
   "cell_type": "code",
   "execution_count": 27,
   "id": "df75142d-6b81-4802-ad0f-aa93cdd5f175",
   "metadata": {
    "tags": []
   },
   "outputs": [
    {
     "data": {
      "text/plain": [
       "array([ 0.84147098,  0.90929743,  0.14112001, -0.7568025 ])"
      ]
     },
     "execution_count": 27,
     "metadata": {},
     "output_type": "execute_result"
    }
   ],
   "source": [
    "#computers sign for every element of a\n",
    "np.sin(a)"
   ]
  },
  {
   "cell_type": "code",
   "execution_count": 28,
   "id": "f45e3ea5-f946-4fc6-a96c-089365b3aac0",
   "metadata": {
    "tags": []
   },
   "outputs": [],
   "source": [
    "#numpy arrays are mutuable sequences of numbers\n",
    "#if you have an integer array, it will not add non-ints (e.g., floats will be truncated)"
   ]
  },
  {
   "cell_type": "code",
   "execution_count": 29,
   "id": "79656e8a-54aa-4a36-a97e-fb480ab26721",
   "metadata": {
    "tags": []
   },
   "outputs": [],
   "source": [
    "b = np.array([[0,1,2,3],[10,11,12,13]])"
   ]
  },
  {
   "cell_type": "code",
   "execution_count": 30,
   "id": "077053b1-91f5-49b5-925d-164ed6b45d41",
   "metadata": {
    "tags": []
   },
   "outputs": [
    {
     "data": {
      "text/plain": [
       "(2, 4)"
      ]
     },
     "execution_count": 30,
     "metadata": {},
     "output_type": "execute_result"
    }
   ],
   "source": [
    "b.shape"
   ]
  },
  {
   "cell_type": "code",
   "execution_count": 32,
   "id": "63fb381b-9af7-49b0-ae47-9bac4e47e610",
   "metadata": {
    "tags": []
   },
   "outputs": [
    {
     "data": {
      "text/plain": [
       "13"
      ]
     },
     "execution_count": 32,
     "metadata": {},
     "output_type": "execute_result"
    }
   ],
   "source": [
    "# first value is row, second is column\n",
    "b[1,3]"
   ]
  },
  {
   "cell_type": "code",
   "execution_count": 33,
   "id": "2c49d644-9629-4d5e-8924-51d8bb7d3da1",
   "metadata": {
    "tags": []
   },
   "outputs": [
    {
     "data": {
      "text/plain": [
       "0"
      ]
     },
     "execution_count": 33,
     "metadata": {},
     "output_type": "execute_result"
    }
   ],
   "source": [
    "#first element is b[0,0]\n",
    "b[0,0]"
   ]
  },
  {
   "cell_type": "code",
   "execution_count": 34,
   "id": "e0c1349f-2931-44aa-97f0-8e78e0f8fbda",
   "metadata": {
    "tags": []
   },
   "outputs": [
    {
     "data": {
      "text/plain": [
       "10"
      ]
     },
     "execution_count": 34,
     "metadata": {},
     "output_type": "execute_result"
    }
   ],
   "source": [
    "b[1,0]"
   ]
  },
  {
   "cell_type": "code",
   "execution_count": null,
   "id": "76d50667-7f11-4d70-894a-f739df27b51a",
   "metadata": {},
   "outputs": [],
   "source": []
  }
 ],
 "metadata": {
  "kernelspec": {
   "display_name": "Python 3 (ipykernel)",
   "language": "python",
   "name": "python3"
  },
  "language_info": {
   "codemirror_mode": {
    "name": "ipython",
    "version": 3
   },
   "file_extension": ".py",
   "mimetype": "text/x-python",
   "name": "python",
   "nbconvert_exporter": "python",
   "pygments_lexer": "ipython3",
   "version": "3.11.5"
  }
 },
 "nbformat": 4,
 "nbformat_minor": 5
}
