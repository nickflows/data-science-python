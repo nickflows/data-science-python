{
 "cells": [
  {
   "cell_type": "markdown",
   "id": "474d8fca-35a1-414a-98e8-ac79f720271a",
   "metadata": {},
   "source": [
    "# Building Modules"
   ]
  },
  {
   "cell_type": "code",
   "execution_count": 1,
   "id": "c9de5f09-e5d7-4047-9cdb-dc540d4caa30",
   "metadata": {},
   "outputs": [],
   "source": [
    "import pandas as pd"
   ]
  },
  {
   "cell_type": "code",
   "execution_count": 10,
   "id": "a40acbe3-d6fb-4a70-9178-6c880e1f0862",
   "metadata": {},
   "outputs": [],
   "source": [
    "import risk_kit as erk"
   ]
  },
  {
   "cell_type": "code",
   "execution_count": 16,
   "id": "ef1c6b12-5b68-49ed-9ea0-ea2fe5f44d90",
   "metadata": {},
   "outputs": [
    {
     "data": {
      "text/plain": [
       "<module 'risk_kit' from '/Users/nicholasflores/Documents/GitHub/data-science-python/finance-ml/risk_kit.py'>"
      ]
     },
     "execution_count": 16,
     "metadata": {},
     "output_type": "execute_result"
    }
   ],
   "source": [
    "erk"
   ]
  },
  {
   "cell_type": "code",
   "execution_count": 9,
   "id": "35f00162-c553-4ee5-86cb-821336550433",
   "metadata": {},
   "outputs": [],
   "source": [
    "%load_ext autoreload"
   ]
  },
  {
   "cell_type": "code",
   "execution_count": 17,
   "id": "092a92cb-b5c5-4dfe-97ba-58bbcaecf2aa",
   "metadata": {},
   "outputs": [
    {
     "data": {
      "text/plain": [
       "<function risk_kit.get_ffm_returns()>"
      ]
     },
     "execution_count": 17,
     "metadata": {},
     "output_type": "execute_result"
    }
   ],
   "source": [
    "erk.get_ffm_returns"
   ]
  },
  {
   "cell_type": "code",
   "execution_count": 23,
   "id": "2252a6e1-4732-4b4b-9b59-59ccd63ebae5",
   "metadata": {},
   "outputs": [
    {
     "name": "stderr",
     "output_type": "stream",
     "text": [
      "/Users/nicholasflores/Documents/GitHub/data-science-python/finance-ml/risk_kit.py:24: UserWarning: Could not infer format, so each element will be parsed individually, falling back to `dateutil`. To ensure parsing is consistent and as-expected, please specify a format.\n",
      "  me_m = pd.read_csv(\"finance-ml-data/Portfolios_Formed_on_ME_monthly_EW.csv\",\n"
     ]
    }
   ],
   "source": [
    "returns = erk.get_ffm_returns()"
   ]
  },
  {
   "cell_type": "code",
   "execution_count": 24,
   "id": "a1b3ea58-6b86-44d9-a3b1-3f621a878b93",
   "metadata": {},
   "outputs": [
    {
     "data": {
      "text/html": [
       "<div>\n",
       "<style scoped>\n",
       "    .dataframe tbody tr th:only-of-type {\n",
       "        vertical-align: middle;\n",
       "    }\n",
       "\n",
       "    .dataframe tbody tr th {\n",
       "        vertical-align: top;\n",
       "    }\n",
       "\n",
       "    .dataframe thead th {\n",
       "        text-align: right;\n",
       "    }\n",
       "</style>\n",
       "<table border=\"1\" class=\"dataframe\">\n",
       "  <thead>\n",
       "    <tr style=\"text-align: right;\">\n",
       "      <th></th>\n",
       "      <th>SmallCap</th>\n",
       "      <th>LargeCap</th>\n",
       "    </tr>\n",
       "  </thead>\n",
       "  <tbody>\n",
       "    <tr>\n",
       "      <th>1926-07</th>\n",
       "      <td>-0.0145</td>\n",
       "      <td>0.0329</td>\n",
       "    </tr>\n",
       "    <tr>\n",
       "      <th>1926-08</th>\n",
       "      <td>0.0512</td>\n",
       "      <td>0.0370</td>\n",
       "    </tr>\n",
       "    <tr>\n",
       "      <th>1926-09</th>\n",
       "      <td>0.0093</td>\n",
       "      <td>0.0067</td>\n",
       "    </tr>\n",
       "    <tr>\n",
       "      <th>1926-10</th>\n",
       "      <td>-0.0484</td>\n",
       "      <td>-0.0243</td>\n",
       "    </tr>\n",
       "    <tr>\n",
       "      <th>1926-11</th>\n",
       "      <td>-0.0078</td>\n",
       "      <td>0.0270</td>\n",
       "    </tr>\n",
       "  </tbody>\n",
       "</table>\n",
       "</div>"
      ],
      "text/plain": [
       "         SmallCap  LargeCap\n",
       "1926-07   -0.0145    0.0329\n",
       "1926-08    0.0512    0.0370\n",
       "1926-09    0.0093    0.0067\n",
       "1926-10   -0.0484   -0.0243\n",
       "1926-11   -0.0078    0.0270"
      ]
     },
     "execution_count": 24,
     "metadata": {},
     "output_type": "execute_result"
    }
   ],
   "source": [
    "returns.head()"
   ]
  },
  {
   "cell_type": "code",
   "execution_count": 26,
   "id": "e8d0a616-3c6d-4256-b9d7-ed60958f589d",
   "metadata": {},
   "outputs": [
    {
     "data": {
      "text/plain": [
       "-0.8330007793945303"
      ]
     },
     "execution_count": 26,
     "metadata": {},
     "output_type": "execute_result"
    }
   ],
   "source": [
    "erk.drawdown(returns['SmallCap'])['Drawdowns'].min()"
   ]
  },
  {
   "cell_type": "code",
   "execution_count": null,
   "id": "bbaaa0a5-15f7-45b4-9405-8486d5e8e0ba",
   "metadata": {},
   "outputs": [],
   "source": []
  }
 ],
 "metadata": {
  "kernelspec": {
   "display_name": "Python 3 (ipykernel)",
   "language": "python",
   "name": "python3"
  },
  "language_info": {
   "codemirror_mode": {
    "name": "ipython",
    "version": 3
   },
   "file_extension": ".py",
   "mimetype": "text/x-python",
   "name": "python",
   "nbconvert_exporter": "python",
   "pygments_lexer": "ipython3",
   "version": "3.11.9"
  }
 },
 "nbformat": 4,
 "nbformat_minor": 5
}
