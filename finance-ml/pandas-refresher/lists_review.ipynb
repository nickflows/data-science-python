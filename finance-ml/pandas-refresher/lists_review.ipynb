{
 "cells": [
  {
   "cell_type": "code",
   "execution_count": 1,
   "id": "16ff66af-29aa-4fc0-910c-0ae7a8a9d75e",
   "metadata": {
    "tags": []
   },
   "outputs": [],
   "source": [
    "a = [2, 4, 6, 8, 10]"
   ]
  },
  {
   "cell_type": "code",
   "execution_count": 2,
   "id": "65da95d0-f98c-458f-afbd-e31f118159cf",
   "metadata": {
    "tags": []
   },
   "outputs": [],
   "source": [
    "prices = [10.0, 12.0, 8.5, 9.0, 14]"
   ]
  },
  {
   "cell_type": "code",
   "execution_count": 3,
   "id": "548d446c-8cea-482e-a4a7-62ee79987d7e",
   "metadata": {
    "tags": []
   },
   "outputs": [
    {
     "data": {
      "text/plain": [
       "[10.0, 12.0, 8.5, 9.0, 14]"
      ]
     },
     "execution_count": 3,
     "metadata": {},
     "output_type": "execute_result"
    }
   ],
   "source": [
    "prices"
   ]
  },
  {
   "cell_type": "code",
   "execution_count": 6,
   "id": "26807799-01c1-4daa-ba12-248550631657",
   "metadata": {
    "tags": []
   },
   "outputs": [
    {
     "name": "stdout",
     "output_type": "stream",
     "text": [
      "[10.0, 12.0]\n"
     ]
    }
   ],
   "source": [
    "print(prices[0:2])"
   ]
  },
  {
   "cell_type": "code",
   "execution_count": 7,
   "id": "ad23be5f-3020-4d61-97db-b11dce060b5a",
   "metadata": {
    "tags": []
   },
   "outputs": [
    {
     "data": {
      "text/plain": [
       "14"
      ]
     },
     "execution_count": 7,
     "metadata": {},
     "output_type": "execute_result"
    }
   ],
   "source": [
    "prices[-1]"
   ]
  },
  {
   "cell_type": "code",
   "execution_count": 16,
   "id": "49e73048-94f6-46a7-8ff4-44aed7bf973b",
   "metadata": {
    "tags": []
   },
   "outputs": [
    {
     "data": {
      "text/plain": [
       "[12.0, 8.5]"
      ]
     },
     "execution_count": 16,
     "metadata": {},
     "output_type": "execute_result"
    }
   ],
   "source": [
    "prices[1:3]"
   ]
  },
  {
   "cell_type": "code",
   "execution_count": 19,
   "id": "c9a0c84f-fe21-4445-90e2-6d8eb1a43405",
   "metadata": {
    "tags": []
   },
   "outputs": [
    {
     "data": {
      "text/plain": [
       "[12.0, 8.5, 9.0]"
      ]
     },
     "execution_count": 19,
     "metadata": {},
     "output_type": "execute_result"
    }
   ],
   "source": [
    "prices[1:4]"
   ]
  },
  {
   "cell_type": "code",
   "execution_count": 23,
   "id": "36452f7a-a5d0-408f-9be2-c1f2a731de71",
   "metadata": {
    "tags": []
   },
   "outputs": [
    {
     "data": {
      "text/plain": [
       "[9.0, 14]"
      ]
     },
     "execution_count": 23,
     "metadata": {},
     "output_type": "execute_result"
    }
   ],
   "source": [
    "prices[-2:]"
   ]
  },
  {
   "cell_type": "code",
   "execution_count": 24,
   "id": "e5d31bbe-9305-4f1e-b943-826e5dff7904",
   "metadata": {
    "tags": []
   },
   "outputs": [
    {
     "data": {
      "text/plain": [
       "14"
      ]
     },
     "execution_count": 24,
     "metadata": {},
     "output_type": "execute_result"
    }
   ],
   "source": [
    "prices[-1]"
   ]
  },
  {
   "cell_type": "code",
   "execution_count": 25,
   "id": "2df52913-a4dc-478c-9b9c-39c1836cb0c4",
   "metadata": {
    "tags": []
   },
   "outputs": [
    {
     "data": {
      "text/plain": [
       "[10.0, 12.0, 8.5, 9.0]"
      ]
     },
     "execution_count": 25,
     "metadata": {},
     "output_type": "execute_result"
    }
   ],
   "source": [
    "prices[0:-1]"
   ]
  },
  {
   "cell_type": "code",
   "execution_count": 26,
   "id": "cb973e8b-9847-48c9-8e03-c625909f5f63",
   "metadata": {
    "tags": []
   },
   "outputs": [
    {
     "data": {
      "text/plain": [
       "range(5, 10)"
      ]
     },
     "execution_count": 26,
     "metadata": {},
     "output_type": "execute_result"
    }
   ],
   "source": [
    "range(5,10)"
   ]
  },
  {
   "cell_type": "code",
   "execution_count": 27,
   "id": "c55e4406-5804-46b0-8729-1cf8d9d60f34",
   "metadata": {
    "tags": []
   },
   "outputs": [
    {
     "data": {
      "text/plain": [
       "5"
      ]
     },
     "execution_count": 27,
     "metadata": {},
     "output_type": "execute_result"
    }
   ],
   "source": [
    "range(5,10)[0]"
   ]
  },
  {
   "cell_type": "code",
   "execution_count": 28,
   "id": "d3e9a3bb-c4da-4e77-888f-6d678975e471",
   "metadata": {
    "tags": []
   },
   "outputs": [],
   "source": [
    "l = range(1,100)"
   ]
  },
  {
   "cell_type": "code",
   "execution_count": 32,
   "id": "bc110639-107e-4e3a-beab-924fa2f01caf",
   "metadata": {
    "tags": []
   },
   "outputs": [
    {
     "name": "stdout",
     "output_type": "stream",
     "text": [
      "99 99\n"
     ]
    }
   ],
   "source": [
    "print(l[-1],len(l))"
   ]
  },
  {
   "cell_type": "code",
   "execution_count": 33,
   "id": "6b675502-64e0-468e-b117-7befded6f426",
   "metadata": {
    "tags": []
   },
   "outputs": [
    {
     "data": {
      "text/plain": [
       "99"
      ]
     },
     "execution_count": 33,
     "metadata": {},
     "output_type": "execute_result"
    }
   ],
   "source": [
    "len(l)"
   ]
  },
  {
   "cell_type": "code",
   "execution_count": 34,
   "id": "11bae741-d9e8-4de2-ac8c-fbad6f04a5fb",
   "metadata": {
    "tags": []
   },
   "outputs": [],
   "source": [
    "l = range(1, 101)"
   ]
  },
  {
   "cell_type": "code",
   "execution_count": 35,
   "id": "1957f9bf-6ebb-4303-ba10-3171c0ddcbd1",
   "metadata": {
    "tags": []
   },
   "outputs": [
    {
     "data": {
      "text/plain": [
       "1"
      ]
     },
     "execution_count": 35,
     "metadata": {},
     "output_type": "execute_result"
    }
   ],
   "source": [
    "l[0]"
   ]
  },
  {
   "cell_type": "code",
   "execution_count": 36,
   "id": "f3005c7d-94bf-4ddb-a9e3-34192dd25793",
   "metadata": {
    "tags": []
   },
   "outputs": [
    {
     "data": {
      "text/plain": [
       "range(3, 8)"
      ]
     },
     "execution_count": 36,
     "metadata": {},
     "output_type": "execute_result"
    }
   ],
   "source": [
    "l[2:7]"
   ]
  },
  {
   "cell_type": "code",
   "execution_count": 37,
   "id": "6e1f63c1-4bb5-4162-afbd-6f2401a91ff8",
   "metadata": {
    "tags": []
   },
   "outputs": [],
   "source": [
    "l = list(range(1,101))"
   ]
  },
  {
   "cell_type": "code",
   "execution_count": 38,
   "id": "72e91773-3a77-45de-a96c-de5cc3106b1b",
   "metadata": {
    "tags": []
   },
   "outputs": [
    {
     "data": {
      "text/plain": [
       "[3, 4, 5, 6, 7]"
      ]
     },
     "execution_count": 38,
     "metadata": {},
     "output_type": "execute_result"
    }
   ],
   "source": [
    "l[2:7]"
   ]
  },
  {
   "cell_type": "code",
   "execution_count": 39,
   "id": "1b3b3421-4417-4c37-b8d9-0245ca03e81c",
   "metadata": {
    "tags": []
   },
   "outputs": [],
   "source": [
    "l100 = list(range(1,101))"
   ]
  },
  {
   "cell_type": "code",
   "execution_count": 40,
   "id": "e61d6a37-f656-44d4-bfb5-0eb2a2df88ee",
   "metadata": {
    "tags": []
   },
   "outputs": [
    {
     "data": {
      "text/plain": [
       "100"
      ]
     },
     "execution_count": 40,
     "metadata": {},
     "output_type": "execute_result"
    }
   ],
   "source": [
    "len(l100)"
   ]
  },
  {
   "cell_type": "code",
   "execution_count": 41,
   "id": "701c535f-eff7-4114-96b2-096be6e55593",
   "metadata": {
    "tags": []
   },
   "outputs": [
    {
     "data": {
      "text/plain": [
       "[1, 2, 3, 4, 5, 6, 7, 8, 9, 10, 11]"
      ]
     },
     "execution_count": 41,
     "metadata": {},
     "output_type": "execute_result"
    }
   ],
   "source": [
    "l100[0:11]"
   ]
  },
  {
   "cell_type": "code",
   "execution_count": 42,
   "id": "33d30454-98dc-458e-8aa9-eba935d77800",
   "metadata": {
    "tags": []
   },
   "outputs": [
    {
     "data": {
      "text/plain": [
       "[1, 2, 3, 4, 5, 6, 7, 8, 9, 10]"
      ]
     },
     "execution_count": 42,
     "metadata": {},
     "output_type": "execute_result"
    }
   ],
   "source": [
    "l100[0:10]"
   ]
  },
  {
   "cell_type": "code",
   "execution_count": 43,
   "id": "77d2f712-d60c-4fc4-a89f-f401a5ccdd0b",
   "metadata": {
    "tags": []
   },
   "outputs": [
    {
     "data": {
      "text/plain": [
       "[1, 3, 5, 7, 9]"
      ]
     },
     "execution_count": 43,
     "metadata": {},
     "output_type": "execute_result"
    }
   ],
   "source": [
    "l100[0:10:2]"
   ]
  },
  {
   "cell_type": "code",
   "execution_count": 46,
   "id": "71629ffe-41a5-4f7d-b53e-c6e5a443bbe3",
   "metadata": {
    "tags": []
   },
   "outputs": [],
   "source": [
    "odds = list(range(1,100,2))"
   ]
  },
  {
   "cell_type": "code",
   "execution_count": 48,
   "id": "3b699d57-f7f9-4e66-ad75-12e0b872908d",
   "metadata": {
    "tags": []
   },
   "outputs": [
    {
     "data": {
      "text/plain": [
       "[1, 3, 5, 7, 9]"
      ]
     },
     "execution_count": 48,
     "metadata": {},
     "output_type": "execute_result"
    }
   ],
   "source": [
    "odds[0:5]"
   ]
  },
  {
   "cell_type": "code",
   "execution_count": 49,
   "id": "824bca14-cf37-4268-8b6f-0c4e3c1950af",
   "metadata": {
    "tags": []
   },
   "outputs": [],
   "source": [
    "evens = list(range(50,100,2))"
   ]
  },
  {
   "cell_type": "code",
   "execution_count": 51,
   "id": "0e1a0f11-a9f9-46b8-95f5-16b89f103f4e",
   "metadata": {
    "tags": []
   },
   "outputs": [
    {
     "data": {
      "text/plain": [
       "[50, 52, 54, 56, 58]"
      ]
     },
     "execution_count": 51,
     "metadata": {},
     "output_type": "execute_result"
    }
   ],
   "source": [
    "evens[0:5]"
   ]
  },
  {
   "cell_type": "code",
   "execution_count": 52,
   "id": "284ea446-9a7e-4800-a5ec-b5a4883be803",
   "metadata": {
    "tags": []
   },
   "outputs": [
    {
     "data": {
      "text/plain": [
       "25"
      ]
     },
     "execution_count": 52,
     "metadata": {},
     "output_type": "execute_result"
    }
   ],
   "source": [
    "len(evens)"
   ]
  },
  {
   "cell_type": "code",
   "execution_count": 53,
   "id": "461dccdb-616e-4e09-856c-bd389e5361b4",
   "metadata": {
    "tags": []
   },
   "outputs": [
    {
     "data": {
      "text/plain": [
       "1850"
      ]
     },
     "execution_count": 53,
     "metadata": {},
     "output_type": "execute_result"
    }
   ],
   "source": [
    "sum(evens)"
   ]
  },
  {
   "cell_type": "code",
   "execution_count": 54,
   "id": "3a2b48b4-b808-4873-9395-53de35f9e368",
   "metadata": {
    "tags": []
   },
   "outputs": [
    {
     "ename": "NameError",
     "evalue": "name 'mean' is not defined",
     "output_type": "error",
     "traceback": [
      "\u001b[0;31m---------------------------------------------------------------------------\u001b[0m",
      "\u001b[0;31mNameError\u001b[0m                                 Traceback (most recent call last)",
      "Cell \u001b[0;32mIn[54], line 1\u001b[0m\n\u001b[0;32m----> 1\u001b[0m mean(evens)\n",
      "\u001b[0;31mNameError\u001b[0m: name 'mean' is not defined"
     ]
    }
   ],
   "source": [
    "mean(evens)"
   ]
  },
  {
   "cell_type": "code",
   "execution_count": 55,
   "id": "4225508e-3e36-4524-9415-08a08b7afaef",
   "metadata": {
    "tags": []
   },
   "outputs": [],
   "source": [
    "from statistics import mean "
   ]
  },
  {
   "cell_type": "code",
   "execution_count": 56,
   "id": "091c6fb9-80ab-489e-b752-27f4e2618126",
   "metadata": {
    "tags": []
   },
   "outputs": [
    {
     "data": {
      "text/plain": [
       "74"
      ]
     },
     "execution_count": 56,
     "metadata": {},
     "output_type": "execute_result"
    }
   ],
   "source": [
    "mean(evens)"
   ]
  },
  {
   "cell_type": "code",
   "execution_count": 58,
   "id": "95b42b55-bdc1-47b8-886b-5c754bfe06d4",
   "metadata": {
    "tags": []
   },
   "outputs": [],
   "source": [
    "l1 = [1,2,3,4,5]\n",
    "l2 = ['apple','banana','orange']\n",
    "l3 = [3.4, 10, 'apple',[],[]]"
   ]
  },
  {
   "cell_type": "code",
   "execution_count": 59,
   "id": "6d0bb636-374b-40e4-9f89-aeaad55844ed",
   "metadata": {
    "tags": []
   },
   "outputs": [
    {
     "data": {
      "text/plain": [
       "[1, 2, 3, 4, 5]"
      ]
     },
     "execution_count": 59,
     "metadata": {},
     "output_type": "execute_result"
    }
   ],
   "source": [
    "l1"
   ]
  },
  {
   "cell_type": "code",
   "execution_count": 60,
   "id": "575dff60-3ed4-40bd-8169-de376dcbc15b",
   "metadata": {
    "tags": []
   },
   "outputs": [
    {
     "data": {
      "text/plain": [
       "[1, 2, 3, 4, 5, 'apple', 'banana', 'orange']"
      ]
     },
     "execution_count": 60,
     "metadata": {},
     "output_type": "execute_result"
    }
   ],
   "source": [
    "l1 + l2"
   ]
  },
  {
   "cell_type": "code",
   "execution_count": 61,
   "id": "4d52d3a6-3945-46bd-8bc5-282f36108160",
   "metadata": {
    "tags": []
   },
   "outputs": [],
   "source": [
    "today_profits = [3,4,-1.50]"
   ]
  },
  {
   "cell_type": "code",
   "execution_count": 62,
   "id": "5437f865-858a-4cc1-945d-2b2a25f2f346",
   "metadata": {
    "tags": []
   },
   "outputs": [],
   "source": [
    "yesterday_profits = [-1,-2,-0.95]"
   ]
  },
  {
   "cell_type": "code",
   "execution_count": 64,
   "id": "f3a4220a-89b1-4465-beed-741a2a188bfa",
   "metadata": {
    "tags": []
   },
   "outputs": [
    {
     "data": {
      "text/plain": [
       "[3, 4, -1.5, -1, -2, -0.95]"
      ]
     },
     "execution_count": 64,
     "metadata": {},
     "output_type": "execute_result"
    }
   ],
   "source": [
    "today_profits + yesterday_profits"
   ]
  },
  {
   "cell_type": "code",
   "execution_count": 65,
   "id": "2afb2b62-13ca-45e6-b850-2692fd5b39b4",
   "metadata": {
    "tags": []
   },
   "outputs": [
    {
     "data": {
      "text/plain": [
       "[3, 4, -1.5, 3, 4, -1.5]"
      ]
     },
     "execution_count": 65,
     "metadata": {},
     "output_type": "execute_result"
    }
   ],
   "source": [
    "today_profits *2"
   ]
  },
  {
   "cell_type": "code",
   "execution_count": 66,
   "id": "d5631e2e-7f01-4c35-af1a-3090792f47e1",
   "metadata": {
    "tags": []
   },
   "outputs": [
    {
     "data": {
      "text/plain": [
       "['apple',\n",
       " 'banana',\n",
       " 'orange',\n",
       " 'apple',\n",
       " 'banana',\n",
       " 'orange',\n",
       " 'apple',\n",
       " 'banana',\n",
       " 'orange']"
      ]
     },
     "execution_count": 66,
     "metadata": {},
     "output_type": "execute_result"
    }
   ],
   "source": [
    "l2 * 3 "
   ]
  },
  {
   "cell_type": "code",
   "execution_count": 67,
   "id": "331db2db-0d9e-4a8c-9f79-7a979c7c897e",
   "metadata": {
    "tags": []
   },
   "outputs": [],
   "source": [
    "# produces copies of the original list when you multiply. Python does not treat lists as vectors"
   ]
  },
  {
   "cell_type": "code",
   "execution_count": 68,
   "id": "2108870a-f239-4870-821a-9fd47a938ec4",
   "metadata": {
    "tags": []
   },
   "outputs": [],
   "source": [
    "# we don't use lists to store time series, values, etc."
   ]
  },
  {
   "cell_type": "code",
   "execution_count": null,
   "id": "eba80595-608f-4b0b-ba4b-2d03dc3513a0",
   "metadata": {},
   "outputs": [],
   "source": []
  }
 ],
 "metadata": {
  "kernelspec": {
   "display_name": "Python 3 (ipykernel)",
   "language": "python",
   "name": "python3"
  },
  "language_info": {
   "codemirror_mode": {
    "name": "ipython",
    "version": 3
   },
   "file_extension": ".py",
   "mimetype": "text/x-python",
   "name": "python",
   "nbconvert_exporter": "python",
   "pygments_lexer": "ipython3",
   "version": "3.11.5"
  }
 },
 "nbformat": 4,
 "nbformat_minor": 5
}
